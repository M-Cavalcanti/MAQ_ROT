{
  "nbformat": 4,
  "nbformat_minor": 0,
  "metadata": {
    "colab": {
      "provenance": [],
      "include_colab_link": true
    },
    "kernelspec": {
      "name": "python3",
      "display_name": "Python 3"
    },
    "language_info": {
      "name": "python"
    }
  },
  "cells": [
    {
      "cell_type": "markdown",
      "metadata": {
        "id": "view-in-github",
        "colab_type": "text"
      },
      "source": [
        "<a href=\"https://colab.research.google.com/github/M-Cavalcanti/MAQ_ROT/blob/main/MAQ_ROT.ipynb\" target=\"_parent\"><img src=\"https://colab.research.google.com/assets/colab-badge.svg\" alt=\"Open In Colab\"/></a>"
      ]
    },
    {
      "cell_type": "markdown",
      "source": [
        "Versão 2"
      ],
      "metadata": {
        "id": "_w2vr6x_ctjk"
      }
    },
    {
      "cell_type": "code",
      "source": [
        "import os\n",
        "from google.colab import drive\n",
        "drive.mount('/content/drive/')"
      ],
      "metadata": {
        "id": "JwzhnVtpcsvg",
        "colab": {
          "base_uri": "https://localhost:8080/"
        },
        "outputId": "46785286-b5a4-45f5-d28c-b4d1f2808487"
      },
      "execution_count": null,
      "outputs": [
        {
          "output_type": "stream",
          "name": "stdout",
          "text": [
            "Mounted at /content/drive/\n"
          ]
        }
      ]
    },
    {
      "cell_type": "code",
      "source": [
        "# Define Condition Labels, Folders, and Codes\n",
        "Condition_label = [\n",
        "    \"Baseline\",\n",
        "    \"Defeito Rolamento e Desbalanciamento\",\n",
        "    \"Defeito Rolamento\",\n",
        "    \"Desalinhamento Horiz Lado Oposto ao Acoplamento\",\n",
        "    \"Desbalanciamento Lado do Acoplamento\",\n",
        "    \"Desbalanciamento Lado Oposto ao Acoplamento\"\n",
        "]\n",
        "Condition_folder = [\n",
        "    \"Baseline\",\n",
        "    \"Defeito Rol e Desbalanc\",\n",
        "    \"Defeito Rolamento\",\n",
        "    \"DesalinhHorizLOA\",\n",
        "    \"Desbalanc1LA\",\n",
        "    \"Desbalanc2LOA\"\n",
        "]\n",
        "Condition_code = [\n",
        "    \"Normal_\",\n",
        "    \"RolamDesbal_\",\n",
        "    \"Rolam_\",\n",
        "    \"DesalinhHoriz_\",\n",
        "    \"Desbalanc1_\",\n",
        "    \"Desbalanc2_\"\n",
        "]\n",
        "\n",
        "Machine_frequency = [10, 20, 30, 40]\n",
        "Machine_frequency_label = [\" 10 Hz\", \" 20 Hz\", \" 30 Hz\", \" 40 Hz\"]\n",
        "Machine_frequency_code = [label.replace(\" \", \"\") for label in Machine_frequency_label]\n",
        "\n",
        "# Function to Generate Filename\n",
        "# N_freq is to be between 1 and 4, N_defect between 1 and 6, and N_series between 1 and 50\n",
        "def file_path(N_freq, N_defect, N_series):\n",
        "    return f'/content/drive/My Drive/Dados coletados/{Condition_folder[N_defect]}/{Machine_frequency_code[N_freq]}/{Condition_code[N_defect]}{Machine_frequency_code[N_freq]}_{(N_series+1):03d}.lvm'"
      ],
      "metadata": {
        "id": "7fsiXuoUcc3F"
      },
      "execution_count": null,
      "outputs": []
    },
    {
      "cell_type": "code",
      "source": [
        "# Sampling parameters\n",
        "Fs = 6e3  # Sampling frequency (Hz)\n",
        "T = 1 / Fs  # Sampling period (seconds)\n",
        "num_samples = int(35e3)  # Total number of samples"
      ],
      "metadata": {
        "id": "ISUHkxAkclKy"
      },
      "execution_count": null,
      "outputs": []
    },
    {
      "cell_type": "code",
      "source": [
        "import numpy as np\n",
        "import pandas as pd\n",
        "\n",
        "# Load data from a LVM file\n",
        "def load_data(file_path):\n",
        "    data = np.loadtxt(file_path, skiprows=23, max_rows=35000,encoding='latin-1')\n",
        "    df = pd.DataFrame(data, columns=[\"X_Value\", \"Time\", \"Trigger\", \"Accel Coupled H\", \"Accel Coupled V\", \"Accel Uncoupled H\", \"Accel Uncoupled V\", \"Vel Coupled H\", \"Vel Coupled V\", \"Vel Uncoupled H\", \"Vel Uncoupled V\"])\n",
        "    return df\n"
      ],
      "metadata": {
        "id": "Qtu21zOCUKRl"
      },
      "execution_count": null,
      "outputs": []
    },
    {
      "cell_type": "code",
      "source": [
        "# Step 1: Load all data into a list\n",
        "data_list = []\n",
        "labels = []\n",
        "\n",
        "for freq in range(0, 4):  # Frequencies\n",
        "    for defect in range(0, 6):  # Defects\n",
        "        for timeseries in range(0, 50):  # Time series\n",
        "            Filename = file_path(freq, defect, timeseries)\n",
        "            data = load_data(Filename)  # Load data using your load_data function\n",
        "            data_list.append(data)\n",
        "\n",
        "            # Append the corresponding defect label to the labels list\n",
        "            labels.append(defect)  # You can use the defect number as the label"
      ],
      "metadata": {
        "id": "o592zFG5YTf4"
      },
      "execution_count": null,
      "outputs": []
    },
    {
      "cell_type": "code",
      "source": [
        "def transform_data(data, variable_pair, use_imag):\n",
        "    # Extract the data for the selected variables\n",
        "    if use_imag:\n",
        "      var1 = data[variable_pair[0]]\n",
        "      var2 = data[variable_pair[1]]\n",
        "\n",
        "      # Create a complex signal\n",
        "      complex_signal = 1 * var1 + 1j * var2\n",
        "    else:\n",
        "      # Extract the data for the selected variables\n",
        "      complex_signal = data[variable_pair]\n",
        "\n",
        "    return complex_signal"
      ],
      "metadata": {
        "id": "t0QvZi1jajJT"
      },
      "execution_count": null,
      "outputs": []
    },
    {
      "cell_type": "code",
      "source": [
        "# Step 2: Select a pair of variables for transformation and training\n",
        "cond = 12\n",
        "match  cond:\n",
        "  case 1:\n",
        "    selected_pair = (\"Vel Uncoupled H\", \"Vel Uncoupled V\")\n",
        "    use_imag = True\n",
        "  case 2:\n",
        "    selected_pair = (\"Vel Uncoupled H\")\n",
        "    use_imag = False\n",
        "  case 3:\n",
        "    selected_pair = (\"Vel Uncoupled V\")\n",
        "    use_imag = False\n",
        "  case 4:\n",
        "    selected_pair = (\"Accel Uncoupled H\", \"Accel Uncoupled V\")\n",
        "    use_imag = True\n",
        "  case 5:\n",
        "    selected_pair = (\"Accel Uncoupled H\")\n",
        "    use_imag = False\n",
        "  case 6:\n",
        "    selected_pair = (\"Accel Uncoupled V\")\n",
        "    use_imag = False\n",
        "  case 7:\n",
        "    selected_pair = (\"Vel Coupled H\", \"Vel Coupled V\")\n",
        "    use_imag = True\n",
        "  case 8:\n",
        "    selected_pair = (\"Vel Coupled H\")\n",
        "    use_imag = False\n",
        "  case 9:\n",
        "    selected_pair = (\"Vel Coupled V\")\n",
        "    use_imag = False\n",
        "  case 10:\n",
        "    selected_pair = (\"Accel Coupled H\", \"Accel Coupled V\")\n",
        "    use_imag = True\n",
        "  case 11:\n",
        "    selected_pair = (\"Accel Coupled H\")\n",
        "    use_imag = False\n",
        "  case 12:\n",
        "    selected_pair = (\"Accel Coupled V\")\n",
        "    use_imag = False\n",
        "\n",
        "\n",
        "# Step 3: Apply the transformation to the selected variables\n",
        "transformed_data_list = []\n",
        "\n",
        "for data in data_list:\n",
        "    complex_signal = transform_data(data, selected_pair,use_imag)\n",
        "    transformed_data_list.append(complex_signal)"
      ],
      "metadata": {
        "id": "La4qg8xWagz4"
      },
      "execution_count": null,
      "outputs": []
    },
    {
      "cell_type": "code",
      "source": [
        "from sklearn.model_selection import train_test_split\n",
        "X_train, X_test, y_train, y_test = train_test_split(transformed_data_list, labels, test_size=0.2, random_state=42)\n",
        "X_train = np.array(X_train)\n",
        "X_test = np.array(X_test)\n",
        "y_train = np.array(y_train)\n",
        "y_test = np.array(y_test)\n",
        "\n",
        "from tensorflow.keras.utils import to_categorical\n",
        "# y_train and y_test are in integer format, representing class indices\n",
        "y_train = to_categorical(y_train, num_classes=6)\n",
        "y_test = to_categorical(y_test, num_classes=6)"
      ],
      "metadata": {
        "id": "YUfQ-HMvccAx"
      },
      "execution_count": null,
      "outputs": []
    },
    {
      "cell_type": "code",
      "source": [
        "# Define the MLP architecture\n",
        "from keras.models import Sequential\n",
        "from keras.layers import Dense, Input, concatenate\n",
        "from keras.models import Model\n",
        "\n",
        "num_classes = 6\n",
        "num_epochs = 30\n",
        "batch_size = 32\n",
        "\n",
        "# Create complex input data by concatenating real and imaginary parts\n",
        "if use_imag:\n",
        "  X_train_complex = np.concatenate((X_train.real, X_train.imag), axis=1)\n",
        "  X_test_complex = np.concatenate((X_test.real, X_test.imag), axis=1)\n",
        "else:\n",
        "  X_train_complex = X_train\n",
        "  X_test_complex = X_test\n",
        "\n",
        "# Input shape for complex data\n",
        "input_shape = X_train_complex.shape[1:]\n",
        "\n",
        "# Create the model\n",
        "model = Sequential()\n",
        "model.add(Dense(128, input_shape=input_shape, activation='relu'))\n",
        "model.add(Dense(64, activation='relu'))\n",
        "model.add(Dense(num_classes, activation='softmax'))\n",
        "\n",
        "# Compile the model\n",
        "model.compile(optimizer='adam', loss='categorical_crossentropy', metrics=['accuracy'])\n",
        "\n",
        "# Train the model\n",
        "model.fit(X_train_complex, y_train, epochs=num_epochs, batch_size=batch_size, validation_data=(X_test_complex, y_test))\n",
        "\n",
        "# Evaluate the model\n",
        "test_loss, test_acc = model.evaluate(X_test_complex, y_test)\n",
        "\n",
        "print(f'Test accuracy: {test_acc}')S"
      ],
      "metadata": {
        "colab": {
          "base_uri": "https://localhost:8080/"
        },
        "id": "64kBJgqbc_Pn",
        "outputId": "85c4768b-ddf5-48e3-cb62-7f9ba1df8999"
      },
      "execution_count": null,
      "outputs": [
        {
          "output_type": "stream",
          "name": "stdout",
          "text": [
            "Epoch 1/30\n",
            "30/30 [==============================] - 4s 87ms/step - loss: 1.4083 - accuracy: 0.7458 - val_loss: 0.3630 - val_accuracy: 0.8875\n",
            "Epoch 2/30\n",
            "30/30 [==============================] - 2s 82ms/step - loss: 0.2245 - accuracy: 0.9802 - val_loss: 0.2895 - val_accuracy: 0.9500\n",
            "Epoch 3/30\n",
            "30/30 [==============================] - 3s 88ms/step - loss: 0.1327 - accuracy: 0.9969 - val_loss: 0.5453 - val_accuracy: 0.9375\n",
            "Epoch 4/30\n",
            "30/30 [==============================] - 3s 97ms/step - loss: 0.0598 - accuracy: 0.9979 - val_loss: 0.2667 - val_accuracy: 0.9375\n",
            "Epoch 5/30\n",
            "30/30 [==============================] - 2s 72ms/step - loss: 0.0140 - accuracy: 1.0000 - val_loss: 0.1790 - val_accuracy: 0.9542\n",
            "Epoch 6/30\n",
            "30/30 [==============================] - 2s 67ms/step - loss: 0.0085 - accuracy: 1.0000 - val_loss: 0.1704 - val_accuracy: 0.9583\n",
            "Epoch 7/30\n",
            "30/30 [==============================] - 2s 70ms/step - loss: 0.0060 - accuracy: 1.0000 - val_loss: 0.1640 - val_accuracy: 0.9583\n",
            "Epoch 8/30\n",
            "30/30 [==============================] - 2s 70ms/step - loss: 0.0045 - accuracy: 1.0000 - val_loss: 0.1593 - val_accuracy: 0.9625\n",
            "Epoch 9/30\n",
            "30/30 [==============================] - 2s 68ms/step - loss: 0.0035 - accuracy: 1.0000 - val_loss: 0.1555 - val_accuracy: 0.9708\n",
            "Epoch 10/30\n",
            "30/30 [==============================] - 3s 90ms/step - loss: 0.0029 - accuracy: 1.0000 - val_loss: 0.1522 - val_accuracy: 0.9708\n",
            "Epoch 11/30\n",
            "30/30 [==============================] - 3s 94ms/step - loss: 0.0024 - accuracy: 1.0000 - val_loss: 0.1495 - val_accuracy: 0.9708\n",
            "Epoch 12/30\n",
            "30/30 [==============================] - 2s 78ms/step - loss: 0.0020 - accuracy: 1.0000 - val_loss: 0.1474 - val_accuracy: 0.9708\n",
            "Epoch 13/30\n",
            "30/30 [==============================] - 2s 72ms/step - loss: 0.0017 - accuracy: 1.0000 - val_loss: 0.1453 - val_accuracy: 0.9708\n",
            "Epoch 14/30\n",
            "30/30 [==============================] - 2s 70ms/step - loss: 0.0015 - accuracy: 1.0000 - val_loss: 0.1433 - val_accuracy: 0.9708\n",
            "Epoch 15/30\n",
            "30/30 [==============================] - 2s 69ms/step - loss: 0.0013 - accuracy: 1.0000 - val_loss: 0.1416 - val_accuracy: 0.9708\n",
            "Epoch 16/30\n",
            "30/30 [==============================] - 2s 70ms/step - loss: 0.0011 - accuracy: 1.0000 - val_loss: 0.1401 - val_accuracy: 0.9708\n",
            "Epoch 17/30\n",
            "30/30 [==============================] - 3s 88ms/step - loss: 0.0010 - accuracy: 1.0000 - val_loss: 0.1386 - val_accuracy: 0.9708\n",
            "Epoch 18/30\n",
            "30/30 [==============================] - 3s 93ms/step - loss: 8.9910e-04 - accuracy: 1.0000 - val_loss: 0.1375 - val_accuracy: 0.9708\n",
            "Epoch 19/30\n",
            "30/30 [==============================] - 3s 85ms/step - loss: 8.0922e-04 - accuracy: 1.0000 - val_loss: 0.1363 - val_accuracy: 0.9708\n",
            "Epoch 20/30\n",
            "30/30 [==============================] - 2s 69ms/step - loss: 7.3276e-04 - accuracy: 1.0000 - val_loss: 0.1352 - val_accuracy: 0.9708\n",
            "Epoch 21/30\n",
            "30/30 [==============================] - 2s 71ms/step - loss: 6.6571e-04 - accuracy: 1.0000 - val_loss: 0.1344 - val_accuracy: 0.9708\n",
            "Epoch 22/30\n",
            "30/30 [==============================] - 2s 69ms/step - loss: 6.0838e-04 - accuracy: 1.0000 - val_loss: 0.1334 - val_accuracy: 0.9708\n",
            "Epoch 23/30\n",
            "30/30 [==============================] - 2s 68ms/step - loss: 5.5687e-04 - accuracy: 1.0000 - val_loss: 0.1325 - val_accuracy: 0.9708\n",
            "Epoch 24/30\n",
            "30/30 [==============================] - 3s 85ms/step - loss: 5.1271e-04 - accuracy: 1.0000 - val_loss: 0.1318 - val_accuracy: 0.9708\n",
            "Epoch 25/30\n",
            "30/30 [==============================] - 3s 92ms/step - loss: 4.7186e-04 - accuracy: 1.0000 - val_loss: 0.1311 - val_accuracy: 0.9708\n",
            "Epoch 26/30\n",
            "30/30 [==============================] - 3s 91ms/step - loss: 4.3603e-04 - accuracy: 1.0000 - val_loss: 0.1303 - val_accuracy: 0.9708\n",
            "Epoch 27/30\n",
            "30/30 [==============================] - 2s 70ms/step - loss: 4.0471e-04 - accuracy: 1.0000 - val_loss: 0.1298 - val_accuracy: 0.9708\n",
            "Epoch 28/30\n",
            "30/30 [==============================] - 2s 73ms/step - loss: 3.7612e-04 - accuracy: 1.0000 - val_loss: 0.1291 - val_accuracy: 0.9708\n",
            "Epoch 29/30\n",
            "30/30 [==============================] - 2s 68ms/step - loss: 3.5055e-04 - accuracy: 1.0000 - val_loss: 0.1286 - val_accuracy: 0.9708\n",
            "Epoch 30/30\n",
            "30/30 [==============================] - 2s 68ms/step - loss: 3.2775e-04 - accuracy: 1.0000 - val_loss: 0.1281 - val_accuracy: 0.9708\n",
            "8/8 [==============================] - 0s 11ms/step - loss: 0.1281 - accuracy: 0.9708\n",
            "Test accuracy: 0.9708333611488342\n"
          ]
        }
      ]
    },
    {
      "cell_type": "code",
      "source": [
        "from sklearn.metrics import confusion_matrix\n",
        "import seaborn as sns\n",
        "import matplotlib.pyplot as plt\n",
        "from matplotlib.colors import LinearSegmentedColormap\n",
        "\n",
        "class_labels = Condition_code\n",
        "\n",
        "# Make predictions on the test dataset\n",
        "y_pred = model.predict(X_test_complex)\n",
        "# Convert the predicted probabilities to class labels\n",
        "y_pred = np.argmax(y_pred, axis=1)\n",
        "y_true = np.argmax(y_test, axis=1)\n",
        "\n",
        "# Calculate the confusion matrix\n",
        "conf_matrix = confusion_matrix(y_true, y_pred)\n",
        "\n",
        "\n",
        "# Define the colors for the custom colormap\n",
        "colors = [(0, 'white'),   # Low values are blue\n",
        "          (0.1, 'red'),   # Transition color\n",
        "          (0.6, 'black'), # Transition color\n",
        "          (1, 'blue')]    # High values are red\n",
        "\n",
        "# Create the custom colormap\n",
        "custom_cmap = LinearSegmentedColormap.from_list('custom_colormap', colors)\n",
        "\n",
        "# Visualize the confusion matrix as a heatmap\n",
        "plt.figure(figsize=(8, 6))\n",
        "sns.heatmap(conf_matrix, annot=True, cmap=custom_cmap, xticklabels=class_labels, yticklabels=class_labels)\n",
        "plt.xlabel('Predicted')\n",
        "plt.ylabel('Actual')\n",
        "\n",
        "if use_imag:\n",
        "  plt.title(f'Confusion Matrix\\nTest Accuracy: {test_acc:.2%}, ({selected_pair[0]}_{selected_pair[1]})')\n",
        "  filename = f'confusion_matrix_{selected_pair[0]}_{selected_pair[1]}.png'\n",
        "else:\n",
        "  filename = f'confusion_matrix_{selected_pair}.png'\n",
        "  plt.title(f'Confusion Matrix\\nTest Accuracy: {test_acc:.2%}, ({selected_pair})')\n",
        "\n",
        "\n",
        "# Adjust layout to prevent cropping of labels\n",
        "plt.tight_layout()\n",
        "plt.savefig(filename)\n",
        "\n",
        "plt.show()"
      ],
      "metadata": {
        "colab": {
          "base_uri": "https://localhost:8080/",
          "height": 625
        },
        "id": "W46Q3xG1dbaR",
        "outputId": "6017093e-2925-4267-a91a-022aac14c5d3"
      },
      "execution_count": null,
      "outputs": [
        {
          "output_type": "stream",
          "name": "stdout",
          "text": [
            "8/8 [==============================] - 0s 10ms/step\n"
          ]
        },
        {
          "output_type": "display_data",
          "data": {
            "text/plain": [
              "<Figure size 800x600 with 2 Axes>"
            ],
            "image/png": "[encoded data removed]"
          },
          "metadata": {}
        }
      ]
    },
    {
      "cell_type": "code",
      "source": [
        "from google.colab import files\n",
        "save = True\n",
        "if save:\n",
        "  !zip -r /content/HMPS.zip /content/HEATMAPS\n",
        "  files.download(\"/content/HMPS.zip\")"
      ],
      "metadata": {
        "colab": {
          "base_uri": "https://localhost:8080/",
          "height": 393
        },
        "id": "4phri2WrHeTU",
        "outputId": "f89eb4b6-f3c6-44ad-bbf5-7562dad0fc19"
      },
      "execution_count": null,
      "outputs": [
        {
          "output_type": "stream",
          "name": "stdout",
          "text": [
            "\tzip warning: name not matched: /content/HEATMAPS\n",
            "\n",
            "zip error: Nothing to do! (try: zip -r /content/HMPS.zip . -i /content/HEATMAPS)\n"
          ]
        },
        {
          "output_type": "error",
          "ename": "FileNotFoundError",
          "evalue": "ignored",
          "traceback": [
            "\u001b[0;31m---------------------------------------------------------------------------\u001b[0m",
            "\u001b[0;31mFileNotFoundError\u001b[0m                         Traceback (most recent call last)",
            "\u001b[0;32m<ipython-input-14-4c7dfad2437a>\u001b[0m in \u001b[0;36m<cell line: 3>\u001b[0;34m()\u001b[0m\n\u001b[1;32m      3\u001b[0m \u001b[0;32mif\u001b[0m \u001b[0msave\u001b[0m\u001b[0;34m:\u001b[0m\u001b[0;34m\u001b[0m\u001b[0;34m\u001b[0m\u001b[0m\n\u001b[1;32m      4\u001b[0m   \u001b[0mget_ipython\u001b[0m\u001b[0;34m(\u001b[0m\u001b[0;34m)\u001b[0m\u001b[0;34m.\u001b[0m\u001b[0msystem\u001b[0m\u001b[0;34m(\u001b[0m\u001b[0;34m'zip -r /content/HMPS.zip /content/HEATMAPS'\u001b[0m\u001b[0;34m)\u001b[0m\u001b[0;34m\u001b[0m\u001b[0;34m\u001b[0m\u001b[0m\n\u001b[0;32m----> 5\u001b[0;31m   \u001b[0mfiles\u001b[0m\u001b[0;34m.\u001b[0m\u001b[0mdownload\u001b[0m\u001b[0;34m(\u001b[0m\u001b[0;34m\"/content/HMPS.zip\"\u001b[0m\u001b[0;34m)\u001b[0m\u001b[0;34m\u001b[0m\u001b[0;34m\u001b[0m\u001b[0m\n\u001b[0m",
            "\u001b[0;32m/usr/local/lib/python3.10/dist-packages/google/colab/files.py\u001b[0m in \u001b[0;36mdownload\u001b[0;34m(filename)\u001b[0m\n\u001b[1;32m    223\u001b[0m   \u001b[0;32mif\u001b[0m \u001b[0;32mnot\u001b[0m \u001b[0m_os\u001b[0m\u001b[0;34m.\u001b[0m\u001b[0mpath\u001b[0m\u001b[0;34m.\u001b[0m\u001b[0mexists\u001b[0m\u001b[0;34m(\u001b[0m\u001b[0mfilename\u001b[0m\u001b[0;34m)\u001b[0m\u001b[0;34m:\u001b[0m\u001b[0;34m\u001b[0m\u001b[0;34m\u001b[0m\u001b[0m\n\u001b[1;32m    224\u001b[0m     \u001b[0mmsg\u001b[0m \u001b[0;34m=\u001b[0m \u001b[0;34m'Cannot find file: {}'\u001b[0m\u001b[0;34m.\u001b[0m\u001b[0mformat\u001b[0m\u001b[0;34m(\u001b[0m\u001b[0mfilename\u001b[0m\u001b[0;34m)\u001b[0m\u001b[0;34m\u001b[0m\u001b[0;34m\u001b[0m\u001b[0m\n\u001b[0;32m--> 225\u001b[0;31m     \u001b[0;32mraise\u001b[0m \u001b[0mFileNotFoundError\u001b[0m\u001b[0;34m(\u001b[0m\u001b[0mmsg\u001b[0m\u001b[0;34m)\u001b[0m  \u001b[0;31m# pylint: disable=undefined-variable\u001b[0m\u001b[0;34m\u001b[0m\u001b[0;34m\u001b[0m\u001b[0m\n\u001b[0m\u001b[1;32m    226\u001b[0m \u001b[0;34m\u001b[0m\u001b[0m\n\u001b[1;32m    227\u001b[0m   \u001b[0mcomm_manager\u001b[0m \u001b[0;34m=\u001b[0m \u001b[0m_IPython\u001b[0m\u001b[0;34m.\u001b[0m\u001b[0mget_ipython\u001b[0m\u001b[0;34m(\u001b[0m\u001b[0;34m)\u001b[0m\u001b[0;34m.\u001b[0m\u001b[0mkernel\u001b[0m\u001b[0;34m.\u001b[0m\u001b[0mcomm_manager\u001b[0m\u001b[0;34m\u001b[0m\u001b[0;34m\u001b[0m\u001b[0m\n",
            "\u001b[0;31mFileNotFoundError\u001b[0m: Cannot find file: /content/HMPS.zip"
          ]
        }
      ]
    }
  ]
}